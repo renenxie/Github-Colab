{
  "nbformat": 4,
  "nbformat_minor": 0,
  "metadata": {
    "colab": {
      "provenance": [],
      "include_colab_link": true
    },
    "kernelspec": {
      "name": "python3",
      "display_name": "Python 3"
    },
    "language_info": {
      "name": "python"
    }
  },
  "cells": [
    {
      "cell_type": "markdown",
      "metadata": {
        "id": "view-in-github",
        "colab_type": "text"
      },
      "source": [
        "<a href=\"https://colab.research.google.com/github/renenxie/Github-Colab/blob/main/classification_logistic_regression.ipynb\" target=\"_parent\"><img src=\"https://colab.research.google.com/assets/colab-badge.svg\" alt=\"Open In Colab\"/></a>"
      ]
    },
    {
      "cell_type": "code",
      "execution_count": null,
      "metadata": {
        "colab": {
          "base_uri": "https://localhost:8080/",
          "height": 423
        },
        "id": "_X111ebSBQfG",
        "outputId": "2a53a207-3189-4b1c-fdc8-26e28c5330db"
      },
      "outputs": [
        {
          "output_type": "execute_result",
          "data": {
            "text/plain": [
              "     Age  Weight  BloodSugar Gender  Diabetes\n",
              "0     25     119       130.8     男生         1\n",
              "1     66     102       128.1     女生         1\n",
              "2     59      65       103.9     男生         0\n",
              "3     46     117        94.8     女生         0\n",
              "4     45      79        57.8     男生         0\n",
              "..   ...     ...         ...    ...       ...\n",
              "395   72      63        97.1     女生         0\n",
              "396   22     117       156.7     女生         1\n",
              "397   31      76       119.0     男生         0\n",
              "398   36      65        96.3     女生         1\n",
              "399   38      75       106.3     男生         0\n",
              "\n",
              "[400 rows x 5 columns]"
            ],
            "text/html": [
              "\n",
              "  <div id=\"df-28493ad2-8f8c-490d-b541-ef533122ab18\">\n",
              "    <div class=\"colab-df-container\">\n",
              "      <div>\n",
              "<style scoped>\n",
              "    .dataframe tbody tr th:only-of-type {\n",
              "        vertical-align: middle;\n",
              "    }\n",
              "\n",
              "    .dataframe tbody tr th {\n",
              "        vertical-align: top;\n",
              "    }\n",
              "\n",
              "    .dataframe thead th {\n",
              "        text-align: right;\n",
              "    }\n",
              "</style>\n",
              "<table border=\"1\" class=\"dataframe\">\n",
              "  <thead>\n",
              "    <tr style=\"text-align: right;\">\n",
              "      <th></th>\n",
              "      <th>Age</th>\n",
              "      <th>Weight</th>\n",
              "      <th>BloodSugar</th>\n",
              "      <th>Gender</th>\n",
              "      <th>Diabetes</th>\n",
              "    </tr>\n",
              "  </thead>\n",
              "  <tbody>\n",
              "    <tr>\n",
              "      <th>0</th>\n",
              "      <td>25</td>\n",
              "      <td>119</td>\n",
              "      <td>130.8</td>\n",
              "      <td>男生</td>\n",
              "      <td>1</td>\n",
              "    </tr>\n",
              "    <tr>\n",
              "      <th>1</th>\n",
              "      <td>66</td>\n",
              "      <td>102</td>\n",
              "      <td>128.1</td>\n",
              "      <td>女生</td>\n",
              "      <td>1</td>\n",
              "    </tr>\n",
              "    <tr>\n",
              "      <th>2</th>\n",
              "      <td>59</td>\n",
              "      <td>65</td>\n",
              "      <td>103.9</td>\n",
              "      <td>男生</td>\n",
              "      <td>0</td>\n",
              "    </tr>\n",
              "    <tr>\n",
              "      <th>3</th>\n",
              "      <td>46</td>\n",
              "      <td>117</td>\n",
              "      <td>94.8</td>\n",
              "      <td>女生</td>\n",
              "      <td>0</td>\n",
              "    </tr>\n",
              "    <tr>\n",
              "      <th>4</th>\n",
              "      <td>45</td>\n",
              "      <td>79</td>\n",
              "      <td>57.8</td>\n",
              "      <td>男生</td>\n",
              "      <td>0</td>\n",
              "    </tr>\n",
              "    <tr>\n",
              "      <th>...</th>\n",
              "      <td>...</td>\n",
              "      <td>...</td>\n",
              "      <td>...</td>\n",
              "      <td>...</td>\n",
              "      <td>...</td>\n",
              "    </tr>\n",
              "    <tr>\n",
              "      <th>395</th>\n",
              "      <td>72</td>\n",
              "      <td>63</td>\n",
              "      <td>97.1</td>\n",
              "      <td>女生</td>\n",
              "      <td>0</td>\n",
              "    </tr>\n",
              "    <tr>\n",
              "      <th>396</th>\n",
              "      <td>22</td>\n",
              "      <td>117</td>\n",
              "      <td>156.7</td>\n",
              "      <td>女生</td>\n",
              "      <td>1</td>\n",
              "    </tr>\n",
              "    <tr>\n",
              "      <th>397</th>\n",
              "      <td>31</td>\n",
              "      <td>76</td>\n",
              "      <td>119.0</td>\n",
              "      <td>男生</td>\n",
              "      <td>0</td>\n",
              "    </tr>\n",
              "    <tr>\n",
              "      <th>398</th>\n",
              "      <td>36</td>\n",
              "      <td>65</td>\n",
              "      <td>96.3</td>\n",
              "      <td>女生</td>\n",
              "      <td>1</td>\n",
              "    </tr>\n",
              "    <tr>\n",
              "      <th>399</th>\n",
              "      <td>38</td>\n",
              "      <td>75</td>\n",
              "      <td>106.3</td>\n",
              "      <td>男生</td>\n",
              "      <td>0</td>\n",
              "    </tr>\n",
              "  </tbody>\n",
              "</table>\n",
              "<p>400 rows × 5 columns</p>\n",
              "</div>\n",
              "      <button class=\"colab-df-convert\" onclick=\"convertToInteractive('df-28493ad2-8f8c-490d-b541-ef533122ab18')\"\n",
              "              title=\"Convert this dataframe to an interactive table.\"\n",
              "              style=\"display:none;\">\n",
              "        \n",
              "  <svg xmlns=\"http://www.w3.org/2000/svg\" height=\"24px\"viewBox=\"0 0 24 24\"\n",
              "       width=\"24px\">\n",
              "    <path d=\"M0 0h24v24H0V0z\" fill=\"none\"/>\n",
              "    <path d=\"M18.56 5.44l.94 2.06.94-2.06 2.06-.94-2.06-.94-.94-2.06-.94 2.06-2.06.94zm-11 1L8.5 8.5l.94-2.06 2.06-.94-2.06-.94L8.5 2.5l-.94 2.06-2.06.94zm10 10l.94 2.06.94-2.06 2.06-.94-2.06-.94-.94-2.06-.94 2.06-2.06.94z\"/><path d=\"M17.41 7.96l-1.37-1.37c-.4-.4-.92-.59-1.43-.59-.52 0-1.04.2-1.43.59L10.3 9.45l-7.72 7.72c-.78.78-.78 2.05 0 2.83L4 21.41c.39.39.9.59 1.41.59.51 0 1.02-.2 1.41-.59l7.78-7.78 2.81-2.81c.8-.78.8-2.07 0-2.86zM5.41 20L4 18.59l7.72-7.72 1.47 1.35L5.41 20z\"/>\n",
              "  </svg>\n",
              "      </button>\n",
              "      \n",
              "  <style>\n",
              "    .colab-df-container {\n",
              "      display:flex;\n",
              "      flex-wrap:wrap;\n",
              "      gap: 12px;\n",
              "    }\n",
              "\n",
              "    .colab-df-convert {\n",
              "      background-color: #E8F0FE;\n",
              "      border: none;\n",
              "      border-radius: 50%;\n",
              "      cursor: pointer;\n",
              "      display: none;\n",
              "      fill: #1967D2;\n",
              "      height: 32px;\n",
              "      padding: 0 0 0 0;\n",
              "      width: 32px;\n",
              "    }\n",
              "\n",
              "    .colab-df-convert:hover {\n",
              "      background-color: #E2EBFA;\n",
              "      box-shadow: 0px 1px 2px rgba(60, 64, 67, 0.3), 0px 1px 3px 1px rgba(60, 64, 67, 0.15);\n",
              "      fill: #174EA6;\n",
              "    }\n",
              "\n",
              "    [theme=dark] .colab-df-convert {\n",
              "      background-color: #3B4455;\n",
              "      fill: #D2E3FC;\n",
              "    }\n",
              "\n",
              "    [theme=dark] .colab-df-convert:hover {\n",
              "      background-color: #434B5C;\n",
              "      box-shadow: 0px 1px 3px 1px rgba(0, 0, 0, 0.15);\n",
              "      filter: drop-shadow(0px 1px 2px rgba(0, 0, 0, 0.3));\n",
              "      fill: #FFFFFF;\n",
              "    }\n",
              "  </style>\n",
              "\n",
              "      <script>\n",
              "        const buttonEl =\n",
              "          document.querySelector('#df-28493ad2-8f8c-490d-b541-ef533122ab18 button.colab-df-convert');\n",
              "        buttonEl.style.display =\n",
              "          google.colab.kernel.accessAllowed ? 'block' : 'none';\n",
              "\n",
              "        async function convertToInteractive(key) {\n",
              "          const element = document.querySelector('#df-28493ad2-8f8c-490d-b541-ef533122ab18');\n",
              "          const dataTable =\n",
              "            await google.colab.kernel.invokeFunction('convertToInteractive',\n",
              "                                                     [key], {});\n",
              "          if (!dataTable) return;\n",
              "\n",
              "          const docLinkHtml = 'Like what you see? Visit the ' +\n",
              "            '<a target=\"_blank\" href=https://colab.research.google.com/notebooks/data_table.ipynb>data table notebook</a>'\n",
              "            + ' to learn more about interactive tables.';\n",
              "          element.innerHTML = '';\n",
              "          dataTable['output_type'] = 'display_data';\n",
              "          await google.colab.output.renderOutput(dataTable, element);\n",
              "          const docLink = document.createElement('div');\n",
              "          docLink.innerHTML = docLinkHtml;\n",
              "          element.appendChild(docLink);\n",
              "        }\n",
              "      </script>\n",
              "    </div>\n",
              "  </div>\n",
              "  "
            ]
          },
          "metadata": {},
          "execution_count": 1
        }
      ],
      "source": [
        "import pandas as pd ##修改\n",
        "\n",
        "url = \"https://raw.githubusercontent.com/GrandmaCan/ML/main/Classification/Diabetes_Data.csv\"\n",
        "data = pd.read_csv(url)\n",
        "data"
      ]
    },
    {
      "cell_type": "code",
      "source": [
        "data[\"Gender\"] = data[\"Gender\"].map({\"男生\": 1, \"女生\": 0})\n",
        "data"
      ],
      "metadata": {
        "colab": {
          "base_uri": "https://localhost:8080/",
          "height": 423
        },
        "id": "6F6HRk-hDCL8",
        "outputId": "3cdd3ea5-3a67-45b5-c46f-cac3339f66d2"
      },
      "execution_count": null,
      "outputs": [
        {
          "output_type": "execute_result",
          "data": {
            "text/plain": [
              "     Age  Weight  BloodSugar  Gender  Diabetes\n",
              "0     25     119       130.8       1         1\n",
              "1     66     102       128.1       0         1\n",
              "2     59      65       103.9       1         0\n",
              "3     46     117        94.8       0         0\n",
              "4     45      79        57.8       1         0\n",
              "..   ...     ...         ...     ...       ...\n",
              "395   72      63        97.1       0         0\n",
              "396   22     117       156.7       0         1\n",
              "397   31      76       119.0       1         0\n",
              "398   36      65        96.3       0         1\n",
              "399   38      75       106.3       1         0\n",
              "\n",
              "[400 rows x 5 columns]"
            ],
            "text/html": [
              "\n",
              "  <div id=\"df-83fb023d-ca9b-453a-ac2f-c2baa9ff191a\">\n",
              "    <div class=\"colab-df-container\">\n",
              "      <div>\n",
              "<style scoped>\n",
              "    .dataframe tbody tr th:only-of-type {\n",
              "        vertical-align: middle;\n",
              "    }\n",
              "\n",
              "    .dataframe tbody tr th {\n",
              "        vertical-align: top;\n",
              "    }\n",
              "\n",
              "    .dataframe thead th {\n",
              "        text-align: right;\n",
              "    }\n",
              "</style>\n",
              "<table border=\"1\" class=\"dataframe\">\n",
              "  <thead>\n",
              "    <tr style=\"text-align: right;\">\n",
              "      <th></th>\n",
              "      <th>Age</th>\n",
              "      <th>Weight</th>\n",
              "      <th>BloodSugar</th>\n",
              "      <th>Gender</th>\n",
              "      <th>Diabetes</th>\n",
              "    </tr>\n",
              "  </thead>\n",
              "  <tbody>\n",
              "    <tr>\n",
              "      <th>0</th>\n",
              "      <td>25</td>\n",
              "      <td>119</td>\n",
              "      <td>130.8</td>\n",
              "      <td>1</td>\n",
              "      <td>1</td>\n",
              "    </tr>\n",
              "    <tr>\n",
              "      <th>1</th>\n",
              "      <td>66</td>\n",
              "      <td>102</td>\n",
              "      <td>128.1</td>\n",
              "      <td>0</td>\n",
              "      <td>1</td>\n",
              "    </tr>\n",
              "    <tr>\n",
              "      <th>2</th>\n",
              "      <td>59</td>\n",
              "      <td>65</td>\n",
              "      <td>103.9</td>\n",
              "      <td>1</td>\n",
              "      <td>0</td>\n",
              "    </tr>\n",
              "    <tr>\n",
              "      <th>3</th>\n",
              "      <td>46</td>\n",
              "      <td>117</td>\n",
              "      <td>94.8</td>\n",
              "      <td>0</td>\n",
              "      <td>0</td>\n",
              "    </tr>\n",
              "    <tr>\n",
              "      <th>4</th>\n",
              "      <td>45</td>\n",
              "      <td>79</td>\n",
              "      <td>57.8</td>\n",
              "      <td>1</td>\n",
              "      <td>0</td>\n",
              "    </tr>\n",
              "    <tr>\n",
              "      <th>...</th>\n",
              "      <td>...</td>\n",
              "      <td>...</td>\n",
              "      <td>...</td>\n",
              "      <td>...</td>\n",
              "      <td>...</td>\n",
              "    </tr>\n",
              "    <tr>\n",
              "      <th>395</th>\n",
              "      <td>72</td>\n",
              "      <td>63</td>\n",
              "      <td>97.1</td>\n",
              "      <td>0</td>\n",
              "      <td>0</td>\n",
              "    </tr>\n",
              "    <tr>\n",
              "      <th>396</th>\n",
              "      <td>22</td>\n",
              "      <td>117</td>\n",
              "      <td>156.7</td>\n",
              "      <td>0</td>\n",
              "      <td>1</td>\n",
              "    </tr>\n",
              "    <tr>\n",
              "      <th>397</th>\n",
              "      <td>31</td>\n",
              "      <td>76</td>\n",
              "      <td>119.0</td>\n",
              "      <td>1</td>\n",
              "      <td>0</td>\n",
              "    </tr>\n",
              "    <tr>\n",
              "      <th>398</th>\n",
              "      <td>36</td>\n",
              "      <td>65</td>\n",
              "      <td>96.3</td>\n",
              "      <td>0</td>\n",
              "      <td>1</td>\n",
              "    </tr>\n",
              "    <tr>\n",
              "      <th>399</th>\n",
              "      <td>38</td>\n",
              "      <td>75</td>\n",
              "      <td>106.3</td>\n",
              "      <td>1</td>\n",
              "      <td>0</td>\n",
              "    </tr>\n",
              "  </tbody>\n",
              "</table>\n",
              "<p>400 rows × 5 columns</p>\n",
              "</div>\n",
              "      <button class=\"colab-df-convert\" onclick=\"convertToInteractive('df-83fb023d-ca9b-453a-ac2f-c2baa9ff191a')\"\n",
              "              title=\"Convert this dataframe to an interactive table.\"\n",
              "              style=\"display:none;\">\n",
              "        \n",
              "  <svg xmlns=\"http://www.w3.org/2000/svg\" height=\"24px\"viewBox=\"0 0 24 24\"\n",
              "       width=\"24px\">\n",
              "    <path d=\"M0 0h24v24H0V0z\" fill=\"none\"/>\n",
              "    <path d=\"M18.56 5.44l.94 2.06.94-2.06 2.06-.94-2.06-.94-.94-2.06-.94 2.06-2.06.94zm-11 1L8.5 8.5l.94-2.06 2.06-.94-2.06-.94L8.5 2.5l-.94 2.06-2.06.94zm10 10l.94 2.06.94-2.06 2.06-.94-2.06-.94-.94-2.06-.94 2.06-2.06.94z\"/><path d=\"M17.41 7.96l-1.37-1.37c-.4-.4-.92-.59-1.43-.59-.52 0-1.04.2-1.43.59L10.3 9.45l-7.72 7.72c-.78.78-.78 2.05 0 2.83L4 21.41c.39.39.9.59 1.41.59.51 0 1.02-.2 1.41-.59l7.78-7.78 2.81-2.81c.8-.78.8-2.07 0-2.86zM5.41 20L4 18.59l7.72-7.72 1.47 1.35L5.41 20z\"/>\n",
              "  </svg>\n",
              "      </button>\n",
              "      \n",
              "  <style>\n",
              "    .colab-df-container {\n",
              "      display:flex;\n",
              "      flex-wrap:wrap;\n",
              "      gap: 12px;\n",
              "    }\n",
              "\n",
              "    .colab-df-convert {\n",
              "      background-color: #E8F0FE;\n",
              "      border: none;\n",
              "      border-radius: 50%;\n",
              "      cursor: pointer;\n",
              "      display: none;\n",
              "      fill: #1967D2;\n",
              "      height: 32px;\n",
              "      padding: 0 0 0 0;\n",
              "      width: 32px;\n",
              "    }\n",
              "\n",
              "    .colab-df-convert:hover {\n",
              "      background-color: #E2EBFA;\n",
              "      box-shadow: 0px 1px 2px rgba(60, 64, 67, 0.3), 0px 1px 3px 1px rgba(60, 64, 67, 0.15);\n",
              "      fill: #174EA6;\n",
              "    }\n",
              "\n",
              "    [theme=dark] .colab-df-convert {\n",
              "      background-color: #3B4455;\n",
              "      fill: #D2E3FC;\n",
              "    }\n",
              "\n",
              "    [theme=dark] .colab-df-convert:hover {\n",
              "      background-color: #434B5C;\n",
              "      box-shadow: 0px 1px 3px 1px rgba(0, 0, 0, 0.15);\n",
              "      filter: drop-shadow(0px 1px 2px rgba(0, 0, 0, 0.3));\n",
              "      fill: #FFFFFF;\n",
              "    }\n",
              "  </style>\n",
              "\n",
              "      <script>\n",
              "        const buttonEl =\n",
              "          document.querySelector('#df-83fb023d-ca9b-453a-ac2f-c2baa9ff191a button.colab-df-convert');\n",
              "        buttonEl.style.display =\n",
              "          google.colab.kernel.accessAllowed ? 'block' : 'none';\n",
              "\n",
              "        async function convertToInteractive(key) {\n",
              "          const element = document.querySelector('#df-83fb023d-ca9b-453a-ac2f-c2baa9ff191a');\n",
              "          const dataTable =\n",
              "            await google.colab.kernel.invokeFunction('convertToInteractive',\n",
              "                                                     [key], {});\n",
              "          if (!dataTable) return;\n",
              "\n",
              "          const docLinkHtml = 'Like what you see? Visit the ' +\n",
              "            '<a target=\"_blank\" href=https://colab.research.google.com/notebooks/data_table.ipynb>data table notebook</a>'\n",
              "            + ' to learn more about interactive tables.';\n",
              "          element.innerHTML = '';\n",
              "          dataTable['output_type'] = 'display_data';\n",
              "          await google.colab.output.renderOutput(dataTable, element);\n",
              "          const docLink = document.createElement('div');\n",
              "          docLink.innerHTML = docLinkHtml;\n",
              "          element.appendChild(docLink);\n",
              "        }\n",
              "      </script>\n",
              "    </div>\n",
              "  </div>\n",
              "  "
            ]
          },
          "metadata": {},
          "execution_count": 2
        }
      ]
    },
    {
      "cell_type": "code",
      "source": [
        "from sklearn.model_selection import train_test_split\n",
        "x = data[[\"Age\", \"Weight\", \"BloodSugar\", \"Gender\"]]\n",
        "y = data[\"Diabetes\"]\n",
        "\n",
        "x_train, x_test, y_train, y_test = train_test_split(x, y, test_size=0.2, random_state=87)\n",
        "x_train = x_train.to_numpy()\n",
        "x_test = x_test.to_numpy()"
      ],
      "metadata": {
        "id": "4xBW8kbhDola"
      },
      "execution_count": null,
      "outputs": []
    },
    {
      "cell_type": "code",
      "source": [
        "from sklearn.preprocessing import StandardScaler\n",
        "\n",
        "scaler = StandardScaler()\n",
        "scaler.fit(x_train)\n",
        "x_train = scaler.transform(x_train)\n",
        "x_test = scaler.transform(x_test)\n",
        "x_test"
      ],
      "metadata": {
        "id": "N4R2harjExeq",
        "colab": {
          "base_uri": "https://localhost:8080/"
        },
        "outputId": "4b3c4bb7-0cca-42b4-9b6f-ae4f2b26e50d"
      },
      "execution_count": null,
      "outputs": [
        {
          "output_type": "execute_result",
          "data": {
            "text/plain": [
              "array([[ 1.4964114 ,  0.95077942,  1.01425033, -1.06458129],\n",
              "       [ 1.43615575, -0.2915795 ,  0.06547324, -1.06458129],\n",
              "       [ 1.67717835, -0.67713916, -2.28906075,  0.93933644],\n",
              "       [-1.63688239,  1.12213927,  0.23520859,  0.93933644],\n",
              "       [-1.09458154,  0.99361938, -0.27834966,  0.93933644],\n",
              "       [ 1.67717835, -1.44825849, -0.86589511,  0.93933644],\n",
              "       [ 0.05027581, -1.40541853, -0.0346271 , -1.06458129],\n",
              "       [ 1.79768965,  0.26534002,  1.90644898, -1.06458129],\n",
              "       [-1.21509284,  1.07929931, -0.07814898,  0.93933644],\n",
              "       [ 0.89385491,  0.73657961,  1.27973383,  0.93933644],\n",
              "       [-1.33560414, -0.2915795 ,  0.45281801,  0.93933644],\n",
              "       [-1.21509284,  0.00830024, -0.7179207 , -1.06458129],\n",
              "       [-0.25100244, -0.07737968, -2.03663381,  0.93933644],\n",
              "       [-0.13049114,  1.07929931, -0.49160689, -1.06458129],\n",
              "       [ 0.65283231,  1.50769894,  0.38753519,  0.93933644],\n",
              "       [ 0.83359926, -0.2915795 , -0.09990993, -1.06458129],\n",
              "       [ 0.59257666, -0.67713916, -0.03027491,  0.93933644],\n",
              "       [ 0.23104276,  1.12213927, -1.11396985,  0.93933644],\n",
              "       [ 0.17078711, -1.6624583 , -1.04868702, -1.06458129],\n",
              "       [ 1.0143662 , -0.80565905, -1.38815773,  0.93933644],\n",
              "       [-0.31125809,  1.2078192 ,  0.03065573, -1.06458129],\n",
              "       [ 0.89385491, -0.80565905,  0.14816482,  0.93933644],\n",
              "       [-1.57662674,  0.56521976,  0.75747121,  0.93933644],\n",
              "       [ 0.17078711, -1.27689864, -0.29140622, -1.06458129],\n",
              "       [-1.09458154, -0.20589957,  0.62690555,  0.93933644],\n",
              "       [-1.27534849, -0.07737968, -0.28270184, -1.06458129],\n",
              "       [-0.19074679, -0.54861927,  1.84551834, -1.06458129],\n",
              "       [-1.51637109, -1.14837875, -0.60041161,  0.93933644],\n",
              "       [ 1.737434  , -0.9770189 , -0.13907962, -1.06458129],\n",
              "       [ 1.07462185,  0.22250006, -0.62217255, -1.06458129],\n",
              "       [ 1.6169227 , -0.67713916, -0.36104124, -1.06458129],\n",
              "       [-0.79330329,  0.8650995 ,  0.23956078,  0.93933644],\n",
              "       [-0.25100244, -0.76281909, -0.91376918, -1.06458129],\n",
              "       [-0.19074679,  1.42201901,  1.66707861, -1.06458129],\n",
              "       [-1.33560414,  0.90793946, -0.53512878, -1.06458129],\n",
              "       [ 0.65283231, -1.40541853, -1.03563046,  0.93933644],\n",
              "       [-1.21509284, -0.89133897,  0.45281801, -1.06458129],\n",
              "       [ 0.35155406, -0.76281909, -0.4524372 ,  0.93933644],\n",
              "       [ 1.0143662 , -1.49109845, -0.94858669, -1.06458129],\n",
              "       [ 1.19513315, -1.36257856, -1.25323988, -1.06458129],\n",
              "       [-0.61253634,  1.5505389 ,  1.07953316,  0.93933644],\n",
              "       [-0.61253634,  1.12213927, -0.82672541,  0.93933644],\n",
              "       [-0.49202504,  0.00830024,  0.68783619, -1.06458129],\n",
              "       [-0.43176939,  0.26534002,  1.94126648, -1.06458129],\n",
              "       [ 1.737434  ,  0.00830024, -1.27500083, -1.06458129],\n",
              "       [-1.45611544,  0.99361938, -0.57429848, -1.06458129],\n",
              "       [-1.51637109,  1.42201901, -0.83978197, -1.06458129],\n",
              "       [-0.91381459,  1.07929931,  0.67913182,  0.93933644],\n",
              "       [-0.13049114,  0.73657961,  1.01860252, -1.06458129],\n",
              "       [-0.55228069,  0.39385991,  0.81404966,  0.93933644],\n",
              "       [ 1.2553888 , -1.14837875,  1.10564629,  0.93933644],\n",
              "       [-1.63688239,  1.25065916, -0.07814898, -1.06458129],\n",
              "       [ 0.95411055, -1.3197386 , -1.18360487,  0.93933644],\n",
              "       [ 1.6169227 , -0.9770189 ,  0.56597491, -1.06458129],\n",
              "       [ 1.6169227 ,  0.99361938,  0.88803686,  0.93933644],\n",
              "       [-0.31125809, -1.74813823, -0.99210857,  0.93933644],\n",
              "       [ 1.0143662 , -0.46293935,  0.85757154,  0.93933644],\n",
              "       [ 1.43615575,  0.13682013,  0.65301868, -1.06458129],\n",
              "       [ 1.6169227 ,  0.39385991, -0.13472744, -1.06458129],\n",
              "       [-1.51637109, -0.03453972, -1.00081295,  0.93933644],\n",
              "       [-1.03432589, -1.57677838, -0.73097726,  0.93933644],\n",
              "       [-1.63688239, -1.27689864, -0.0346271 , -1.06458129],\n",
              "       [-1.27534849, -1.53393841, -2.14979072, -1.06458129],\n",
              "       [-0.67279199, -1.23405867, -1.41862305,  0.93933644],\n",
              "       [ 1.79768965,  0.05114021,  0.36577424,  0.93933644],\n",
              "       [-0.13049114, -1.06269882, -0.60041161,  0.93933644],\n",
              "       [-0.07023549,  1.42201901,  0.88803686,  0.93933644],\n",
              "       [ 0.05027581,  0.95077942,  0.29613923, -1.06458129],\n",
              "       [ 1.19513315,  0.30817998, -0.02157053, -1.06458129],\n",
              "       [-1.03432589,  1.42201901,  1.28843821, -1.06458129],\n",
              "       [-1.15483719,  0.73657961, -1.18360487, -1.06458129],\n",
              "       [ 1.19513315,  0.56521976,  1.58003484,  0.93933644],\n",
              "       [-0.19074679,  1.37917905,  0.65737087,  0.93933644],\n",
              "       [-0.43176939,  0.60805972,  1.03165909, -1.06458129],\n",
              "       [ 1.0143662 ,  1.16497924,  0.32660455,  0.93933644],\n",
              "       [ 1.2553888 ,  0.82225953,  0.54421397, -1.06458129],\n",
              "       [-1.69713804, -1.44825849, -1.24453551,  0.93933644],\n",
              "       [ 0.17078711, -0.03453972, -0.67439881, -1.06458129],\n",
              "       [ 0.05027581,  1.5505389 ,  1.53651295, -1.06458129],\n",
              "       [-0.00997984, -0.37725942, -1.42297523,  0.93933644]])"
            ]
          },
          "metadata": {},
          "execution_count": 4
        }
      ]
    },
    {
      "cell_type": "code",
      "source": [
        "import numpy as np\n",
        "def sigmoid(z):\n",
        "  return 1/(1+np.exp(-z))"
      ],
      "metadata": {
        "id": "8Ke42mwZI9as"
      },
      "execution_count": null,
      "outputs": []
    },
    {
      "cell_type": "code",
      "source": [
        "w = np.array([1, 2, 3, 4])\n",
        "b = 1\n",
        "z = (w*x_train).sum(axis=1) + b\n",
        "y_pred = sigmoid(z)\n",
        "# -y*log(y_pred) - (1-y)*log(1-y_pred)\n",
        "cost = -y_train*np.log(y_pred) - (1-y_train)*np.log(1-y_pred)\n",
        "cost.mean()"
      ],
      "metadata": {
        "colab": {
          "base_uri": "https://localhost:8080/"
        },
        "id": "g6f-acQwFpCS",
        "outputId": "249d0c0a-708e-4c5f-8b04-dea66b1c3b27"
      },
      "execution_count": null,
      "outputs": [
        {
          "output_type": "execute_result",
          "data": {
            "text/plain": [
              "1.3959515636868534"
            ]
          },
          "metadata": {},
          "execution_count": 6
        }
      ]
    },
    {
      "cell_type": "code",
      "source": [
        "def compute_cost(x, y, w, b):\n",
        "  z = (w*x).sum(axis=1) + b\n",
        "  y_pred = sigmoid(z)\n",
        "  cost = -y*np.log(y_pred) - (1-y)*np.log(1-y_pred)\n",
        "  cost = cost.mean()\n",
        "  return cost"
      ],
      "metadata": {
        "id": "7zz4XppQ4dJq"
      },
      "execution_count": null,
      "outputs": []
    },
    {
      "cell_type": "code",
      "source": [
        "w = np.array([1, 4, 2, 4])\n",
        "b = 2\n",
        "compute_cost(x_train, y_train, w, b)"
      ],
      "metadata": {
        "colab": {
          "base_uri": "https://localhost:8080/"
        },
        "id": "J3f3n5034rJD",
        "outputId": "94aac041-8ca4-4ead-c118-7693f206f3ee"
      },
      "execution_count": null,
      "outputs": [
        {
          "output_type": "execute_result",
          "data": {
            "text/plain": [
              "1.9542777292019753"
            ]
          },
          "metadata": {},
          "execution_count": 8
        }
      ]
    },
    {
      "cell_type": "code",
      "source": [
        "z = (w*x_train).sum(axis=1) + b\n",
        "y_pred = sigmoid(z)\n",
        "b_gradient = (y_pred - y_train).mean()\n",
        "w_gradient = np.zeros(x_train.shape[1])\n",
        "\n",
        "for i in range(x_train.shape[1]):\n",
        "  w_gradient[i] = (x_train[:, i]*(y_pred - y_train)).mean()\n",
        "\n",
        "w_gradient, b_gradient"
      ],
      "metadata": {
        "colab": {
          "base_uri": "https://localhost:8080/"
        },
        "id": "mrCzgUToSRAC",
        "outputId": "5a5e9057-53e0-43ae-a0a9-897ba9ed77b2"
      },
      "execution_count": null,
      "outputs": [
        {
          "output_type": "execute_result",
          "data": {
            "text/plain": [
              "(array([ 0.04176112,  0.13246515, -0.12945482,  0.21952511]),\n",
              " 0.29409673395976715)"
            ]
          },
          "metadata": {},
          "execution_count": 9
        }
      ]
    },
    {
      "cell_type": "code",
      "source": [
        "def compute_gradient(x, y, w, b):\n",
        "  z = (w*x).sum(axis=1) + b\n",
        "  y_pred = sigmoid(z)\n",
        "  w_gradient = np.zeros(x.shape[1])\n",
        "  b_gradient = (y_pred - y).mean()\n",
        "  for i in range(x.shape[1]):\n",
        "    w_gradient[i] = (x[:, i]*(y_pred - y)).mean()\n",
        "\n",
        "  return w_gradient, b_gradient"
      ],
      "metadata": {
        "id": "ctn4UV9xTSyy"
      },
      "execution_count": null,
      "outputs": []
    },
    {
      "cell_type": "code",
      "source": [
        "w = np.array([1, 2, 2, 3])\n",
        "b = 5\n",
        "compute_gradient(x_train, y_train, w, b)"
      ],
      "metadata": {
        "colab": {
          "base_uri": "https://localhost:8080/"
        },
        "id": "wF_wrAWnTl4J",
        "outputId": "a9534399-5701-4844-9418-54cf0ece6ba4"
      },
      "execution_count": null,
      "outputs": [
        {
          "output_type": "execute_result",
          "data": {
            "text/plain": [
              "(array([ 0.02951124, -0.00123345, -0.20911372,  0.15024735]),\n",
              " 0.518806798216479)"
            ]
          },
          "metadata": {},
          "execution_count": 11
        }
      ]
    },
    {
      "cell_type": "code",
      "source": [
        "w = np.array([1, 2, 2, 3])\n",
        "b = 5\n",
        "learning_rate = 1\n",
        "w_gradient, b_gradient = compute_gradient(x_train, y_train, w, b)\n",
        "print(compute_cost(x_train, y_train, w, b))\n",
        "w = w - w_gradient*learning_rate\n",
        "b = b - b_gradient*learning_rate\n",
        "w, b\n",
        "print(compute_cost(x_train, y_train, w, b))"
      ],
      "metadata": {
        "colab": {
          "base_uri": "https://localhost:8080/"
        },
        "id": "6iREIW-IUIlq",
        "outputId": "3fea5867-a0c0-4caa-a9f8-e791eac2dae1"
      },
      "execution_count": null,
      "outputs": [
        {
          "output_type": "stream",
          "name": "stdout",
          "text": [
            "2.8154062345431683\n",
            "2.487342502355539\n"
          ]
        }
      ]
    },
    {
      "cell_type": "code",
      "source": [
        "np.set_printoptions(formatter={'float': '{: .2e}'.format})\n",
        "def gradient_descent(x, y, w_init, b_init, learning_rate, cost_function, gradient_function, run_iter, p_iter=1000):\n",
        "\n",
        "  c_hist = []\n",
        "  w_hist = []\n",
        "  b_hist = []\n",
        "\n",
        "  w = w_init\n",
        "  b = b_init\n",
        "\n",
        "  for i in range(run_iter):\n",
        "    w_gradient, b_gradient = gradient_function(x, y, w, b)\n",
        "\n",
        "    w = w - w_gradient*learning_rate\n",
        "    b = b - b_gradient*learning_rate\n",
        "    cost = cost_function(x, y, w, b)\n",
        "\n",
        "    w_hist.append(w)\n",
        "    b_hist.append(b)\n",
        "    c_hist.append(cost)\n",
        "\n",
        "    if i%p_iter == 0:\n",
        "      print(f\"Iteration {i:5} : Cost {cost: .4e}, w: {w}, b: {b: .2e}, w_gradient: {w_gradient}, b_gradient: {b_gradient: .2e}\")\n",
        "\n",
        "  return w, b, w_hist, b_hist, c_hist"
      ],
      "metadata": {
        "id": "GGaIbG5AWkJr"
      },
      "execution_count": null,
      "outputs": []
    },
    {
      "cell_type": "code",
      "source": [
        "w_init = np.array([1, 2, 2, 3])\n",
        "b_init = 5\n",
        "learning_rate = 1\n",
        "run_iter = 10000\n",
        "\n",
        "w_final, b_final, w_hist, b_hist, c_hist = gradient_descent(x_train, y_train, w_init, b_init, learning_rate, compute_cost, compute_gradient, run_iter)"
      ],
      "metadata": {
        "colab": {
          "base_uri": "https://localhost:8080/"
        },
        "id": "DWv9VSDdW5W2",
        "outputId": "e21870b9-eea1-4cc5-d270-17db5f899b9e"
      },
      "execution_count": null,
      "outputs": [
        {
          "output_type": "stream",
          "name": "stdout",
          "text": [
            "Iteration     0 : Cost  2.4873e+00, w: [ 9.70e-01  2.00e+00  2.21e+00  2.85e+00], b:  4.48e+00, w_gradient: [ 2.95e-02 -1.23e-03 -2.09e-01  1.50e-01], b_gradient:  5.19e-01\n",
            "Iteration  1000 : Cost  2.3005e-01, w: [-2.53e-01 -3.06e-01  4.62e+00 -1.58e-01], b: -2.24e+00, w_gradient: [ 5.36e-07  1.44e-06 -7.74e-06  4.51e-07], b_gradient:  3.32e-06\n",
            "Iteration  2000 : Cost  2.3005e-01, w: [-2.53e-01 -3.06e-01  4.62e+00 -1.58e-01], b: -2.24e+00, w_gradient: [ 4.40e-10  1.18e-09 -6.36e-09  3.70e-10], b_gradient:  2.73e-09\n",
            "Iteration  3000 : Cost  2.3005e-01, w: [-2.53e-01 -3.06e-01  4.62e+00 -1.58e-01], b: -2.24e+00, w_gradient: [ 3.61e-13  9.73e-13 -5.22e-12  3.04e-13], b_gradient:  2.24e-12\n",
            "Iteration  4000 : Cost  2.3005e-01, w: [-2.53e-01 -3.06e-01  4.62e+00 -1.58e-01], b: -2.24e+00, w_gradient: [ 2.98e-16  8.01e-16 -4.30e-15  2.44e-16], b_gradient:  1.92e-15\n",
            "Iteration  5000 : Cost  2.3005e-01, w: [-2.53e-01 -3.06e-01  4.62e+00 -1.58e-01], b: -2.24e+00, w_gradient: [ 1.94e-17  2.36e-17 -4.33e-16  1.39e-17], b_gradient:  2.05e-16\n",
            "Iteration  6000 : Cost  2.3005e-01, w: [-2.53e-01 -3.06e-01  4.62e+00 -1.58e-01], b: -2.24e+00, w_gradient: [ 1.94e-17  2.36e-17 -4.33e-16  1.39e-17], b_gradient:  2.05e-16\n",
            "Iteration  7000 : Cost  2.3005e-01, w: [-2.53e-01 -3.06e-01  4.62e+00 -1.58e-01], b: -2.24e+00, w_gradient: [ 1.94e-17  2.36e-17 -4.33e-16  1.39e-17], b_gradient:  2.05e-16\n",
            "Iteration  8000 : Cost  2.3005e-01, w: [-2.53e-01 -3.06e-01  4.62e+00 -1.58e-01], b: -2.24e+00, w_gradient: [ 1.94e-17  2.36e-17 -4.33e-16  1.39e-17], b_gradient:  2.05e-16\n",
            "Iteration  9000 : Cost  2.3005e-01, w: [-2.53e-01 -3.06e-01  4.62e+00 -1.58e-01], b: -2.24e+00, w_gradient: [ 1.94e-17  2.36e-17 -4.33e-16  1.39e-17], b_gradient:  2.05e-16\n"
          ]
        }
      ]
    },
    {
      "cell_type": "code",
      "source": [
        "import matplotlib.pyplot as plt\n",
        "import numpy as np\n",
        "\n",
        "plt.plot(np.arange(0, 100), c_hist[:100])\n",
        "plt.title(\"iteration vs cost\")\n",
        "plt.xlabel(\"iteration\")\n",
        "plt.ylabel(\"cost\")\n",
        "plt.show()"
      ],
      "metadata": {
        "colab": {
          "base_uri": "https://localhost:8080/"
        },
        "id": "i0-8RvjUbOI-",
        "outputId": "01356046-9323-46f5-8971-0ae5466f1848"
      },
      "execution_count": null,
      "outputs": [
        {
          "output_type": "display_data",
          "data": {
            "text/plain": [
              "<Figure size 432x288 with 1 Axes>"
            ],
            "image/png": "[encoded data removed]"
          },
          "metadata": {
            "needs_background": "light"
          }
        }
      ]
    },
    {
      "cell_type": "code",
      "source": [
        "plt.plot(np.arange(0, 1000), w_hist[:1000])\n",
        "plt.title(\"iteration vs w\")\n",
        "plt.xlabel(\"iteration\")\n",
        "plt.ylabel(\"w\")\n",
        "plt.show()"
      ],
      "metadata": {
        "colab": {
          "base_uri": "https://localhost:8080/"
        },
        "id": "6Mv9Mc3Dby-l",
        "outputId": "54c5e4ab-5913-4a71-c196-a155feafacd1"
      },
      "execution_count": null,
      "outputs": [
        {
          "output_type": "display_data",
          "data": {
            "text/plain": [
              "<Figure size 432x288 with 1 Axes>"
            ],
            "image/png": "[encoded data removed]"
          },
          "metadata": {
            "needs_background": "light"
          }
        }
      ]
    },
    {
      "cell_type": "code",
      "source": [
        "plt.plot(np.arange(0, 1000), b_hist[:1000])\n",
        "plt.title(\"iteration vs b\")\n",
        "plt.xlabel(\"iteration\")\n",
        "plt.ylabel(\"b\")\n",
        "plt.show()"
      ],
      "metadata": {
        "colab": {
          "base_uri": "https://localhost:8080/"
        },
        "id": "TgytUefccmMY",
        "outputId": "2d8bb7eb-b29b-4307-c67e-92eee10b5210"
      },
      "execution_count": null,
      "outputs": [
        {
          "output_type": "display_data",
          "data": {
            "text/plain": [
              "<Figure size 432x288 with 1 Axes>"
            ],
            "image/png": "[encoded data removed]"
          },
          "metadata": {
            "needs_background": "light"
          }
        }
      ]
    },
    {
      "cell_type": "code",
      "source": [
        "w_final, b_final"
      ],
      "metadata": {
        "colab": {
          "base_uri": "https://localhost:8080/"
        },
        "id": "byFztLI0dAwt",
        "outputId": "b28dbc0e-cf24-4e50-c918-06cee8fbb440"
      },
      "execution_count": null,
      "outputs": [
        {
          "output_type": "execute_result",
          "data": {
            "text/plain": [
              "(array([-2.53e-01, -3.06e-01,  4.62e+00, -1.58e-01]), -2.2423167596289706)"
            ]
          },
          "metadata": {},
          "execution_count": 18
        }
      ]
    },
    {
      "cell_type": "code",
      "source": [
        "z = (w_final*x_test).sum(axis=1) + b_final\n",
        "y_pred = sigmoid(z)\n",
        "y_pred = np.where(y_pred>0.5, 1, 0)\n",
        "acc = (y_pred==y_test).sum() / len(y_test) * 100\n",
        "print(f\"正確率 {acc}%\")"
      ],
      "metadata": {
        "colab": {
          "base_uri": "https://localhost:8080/"
        },
        "id": "y3eFKPBHdVG0",
        "outputId": "485a6544-2a72-4208-c4d9-ffa542c0c4d5"
      },
      "execution_count": null,
      "outputs": [
        {
          "output_type": "stream",
          "name": "stdout",
          "text": [
            "正確率 90.0%\n"
          ]
        }
      ]
    },
    {
      "cell_type": "code",
      "source": [
        "# 72 92 102 女生\n",
        "# 62 52 120 男生\n",
        "x_real = np.array([[72, 92, 102, 0], [62, 52, 120, 1]])\n",
        "x_real = scaler.transform(x_real)\n",
        "z = (w_final*x_real).sum(axis=1) + b_final\n",
        "y_real = sigmoid(z)\n",
        "y_real"
      ],
      "metadata": {
        "colab": {
          "base_uri": "https://localhost:8080/"
        },
        "id": "jMEw0Z2M-z8V",
        "outputId": "4304db15-71ff-4849-9c8b-f84aa49f1b71"
      },
      "execution_count": null,
      "outputs": [
        {
          "output_type": "execute_result",
          "data": {
            "text/plain": [
              "array([ 4.35e-02,  7.08e-01])"
            ]
          },
          "metadata": {},
          "execution_count": 20
        }
      ]
    }
  ]
}